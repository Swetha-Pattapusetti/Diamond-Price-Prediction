{
  "nbformat": 4,
  "nbformat_minor": 0,
  "metadata": {
    "colab": {
      "provenance": []
    },
    "kernelspec": {
      "name": "python3",
      "display_name": "Python 3"
    },
    "language_info": {
      "name": "python"
    }
  },
  "cells": [
    {
      "cell_type": "markdown",
      "source": [
        "# **Predicting** **diamond** **price** **and** **preprocessing** **data**"
      ],
      "metadata": {
        "id": "VUPHZKK5nCMZ"
      }
    },
    {
      "cell_type": "code",
      "source": [
        "import pandas as pd\n",
        "data=pd.read_csv('https://www.dropbox.com/s/5saczr8wmjketen/DiamondPrices.csv?dl=1')\n",
        "label_data=data.copy()\n",
        "s=(data.dtypes==\"object\")\n",
        "print(s)\n",
        "obj_cols=list(s[s].index)\n",
        "print(s[s])\n",
        "print(type(s))\n",
        "print(s[s].index)\n",
        "print(obj_cols)"
      ],
      "metadata": {
        "colab": {
          "base_uri": "https://localhost:8080/"
        },
        "id": "pRdZCJ1XmlFd",
        "outputId": "d92d5349-d1cc-49fe-9f00-4e3a8203e8f3"
      },
      "execution_count": 3,
      "outputs": [
        {
          "output_type": "stream",
          "name": "stdout",
          "text": [
            "sn         False\n",
            "carat      False\n",
            "cut         True\n",
            "color       True\n",
            "clarity     True\n",
            "depth      False\n",
            "table      False\n",
            "price      False\n",
            "x          False\n",
            "y          False\n",
            "z          False\n",
            "dtype: bool\n",
            "cut        True\n",
            "color      True\n",
            "clarity    True\n",
            "dtype: bool\n",
            "<class 'pandas.core.series.Series'>\n",
            "Index(['cut', 'color', 'clarity'], dtype='object')\n",
            "['cut', 'color', 'clarity']\n"
          ]
        }
      ]
    },
    {
      "cell_type": "code",
      "source": [
        "print(label_data)"
      ],
      "metadata": {
        "colab": {
          "base_uri": "https://localhost:8080/"
        },
        "id": "iFYIyJB9K8wb",
        "outputId": "19c5e32a-d8ce-40fc-8c3b-b38bd8760442"
      },
      "execution_count": 4,
      "outputs": [
        {
          "output_type": "stream",
          "name": "stdout",
          "text": [
            "          sn  carat        cut color clarity  depth  table  price     x     y  \\\n",
            "0          1   0.23      Ideal     E     SI2   61.5   55.0    326  3.95  3.98   \n",
            "1          2   0.21    Premium     E     SI1   59.8   61.0    326  3.89  3.84   \n",
            "2          3   0.23       Good     E     VS1   56.9   65.0    327  4.05  4.07   \n",
            "3          4   0.29    Premium     I     VS2   62.4   58.0    334  4.20  4.23   \n",
            "4          5   0.31       Good     J     SI2   63.3   58.0    335  4.34  4.35   \n",
            "...      ...    ...        ...   ...     ...    ...    ...    ...   ...   ...   \n",
            "53935  53936   0.72      Ideal     D     SI1   60.8   57.0   2757  5.75  5.76   \n",
            "53936  53937   0.72       Good     D     SI1   63.1   55.0   2757  5.69  5.75   \n",
            "53937  53938   0.70  Very Good     D     SI1   62.8   60.0   2757  5.66  5.68   \n",
            "53938  53939   0.86    Premium     H     SI2   61.0   58.0   2757  6.15  6.12   \n",
            "53939  53940   0.75      Ideal     D     SI2   62.2   55.0   2757  5.83  5.87   \n",
            "\n",
            "          z  \n",
            "0      2.43  \n",
            "1      2.31  \n",
            "2      2.31  \n",
            "3      2.63  \n",
            "4      2.75  \n",
            "...     ...  \n",
            "53935  3.50  \n",
            "53936  3.61  \n",
            "53937  3.56  \n",
            "53938  3.74  \n",
            "53939  3.64  \n",
            "\n",
            "[53940 rows x 11 columns]\n"
          ]
        }
      ]
    },
    {
      "cell_type": "code",
      "source": [
        "from sklearn.preprocessing import LabelEncoder\n",
        "label_encoder=LabelEncoder()\n",
        "print(label_encoder)\n",
        "for col in obj_cols:\n",
        "  label_data[col]=label_encoder.fit_transform(label_data[col])\n",
        "  print(label_data[col])\n",
        "print(label_data.cut.unique())\n",
        "print(label_data.color.unique())\n",
        "print(label_data.clarity.unique())"
      ],
      "metadata": {
        "colab": {
          "base_uri": "https://localhost:8080/"
        },
        "id": "35lvipfILM1S",
        "outputId": "b83a5e19-5f32-4e93-e961-329d188e942b"
      },
      "execution_count": 5,
      "outputs": [
        {
          "output_type": "stream",
          "name": "stdout",
          "text": [
            "LabelEncoder()\n",
            "0        2\n",
            "1        3\n",
            "2        1\n",
            "3        3\n",
            "4        1\n",
            "        ..\n",
            "53935    2\n",
            "53936    1\n",
            "53937    4\n",
            "53938    3\n",
            "53939    2\n",
            "Name: cut, Length: 53940, dtype: int64\n",
            "0        1\n",
            "1        1\n",
            "2        1\n",
            "3        5\n",
            "4        6\n",
            "        ..\n",
            "53935    0\n",
            "53936    0\n",
            "53937    0\n",
            "53938    4\n",
            "53939    0\n",
            "Name: color, Length: 53940, dtype: int64\n",
            "0        3\n",
            "1        2\n",
            "2        4\n",
            "3        5\n",
            "4        3\n",
            "        ..\n",
            "53935    2\n",
            "53936    2\n",
            "53937    2\n",
            "53938    3\n",
            "53939    3\n",
            "Name: clarity, Length: 53940, dtype: int64\n",
            "[2 3 1 4 0]\n",
            "[1 5 6 4 2 3 0]\n",
            "[3 2 4 5 7 6 0 1]\n"
          ]
        }
      ]
    },
    {
      "cell_type": "code",
      "source": [
        "X=label_data[['carat', 'cut', 'color', 'clarity', 'depth', 'table',\n",
        "       'x', 'y', 'z']]\n",
        "y=label_data['price']"
      ],
      "metadata": {
        "id": "zygQJ_WPLNBO"
      },
      "execution_count": 6,
      "outputs": []
    },
    {
      "cell_type": "code",
      "source": [
        "from sklearn.model_selection import train_test_split\n",
        "X_train,X_test,y_train,y_test=train_test_split(X,y,train_size=0.7,random_state=2529)\n",
        "X_train.shape,X_test.shape,y_train.shape,y_test.shape"
      ],
      "metadata": {
        "id": "jgD6fwhdK81g",
        "colab": {
          "base_uri": "https://localhost:8080/"
        },
        "outputId": "5f9f127c-768e-41fd-dd4e-66cfdb45ee92"
      },
      "execution_count": 7,
      "outputs": [
        {
          "output_type": "execute_result",
          "data": {
            "text/plain": [
              "((37758, 9), (16182, 9), (37758,), (16182,))"
            ]
          },
          "metadata": {},
          "execution_count": 7
        }
      ]
    },
    {
      "cell_type": "code",
      "source": [
        "from sklearn.ensemble import RandomForestRegressor\n",
        "model= RandomForestRegressor()\n",
        "model.fit(X_train,y_train)\n",
        "y_pred=model.predict(X_test)\n",
        "y_pred"
      ],
      "metadata": {
        "colab": {
          "base_uri": "https://localhost:8080/"
        },
        "id": "hak1861sTcDQ",
        "outputId": "8e12c2c0-4159-4d2a-fabb-636de7d2708b"
      },
      "execution_count": 8,
      "outputs": [
        {
          "output_type": "execute_result",
          "data": {
            "text/plain": [
              "array([ 998.7       ,  748.78      , 4047.21      , ...,  519.13666667,\n",
              "        722.91      , 6367.23      ])"
            ]
          },
          "metadata": {},
          "execution_count": 8
        }
      ]
    },
    {
      "cell_type": "code",
      "source": [
        "from sklearn.metrics import mean_absolute_percentage_error,mean_absolute_error,mean_squared_error\n",
        "mean_absolute_percentage_error(y_test,y_pred)"
      ],
      "metadata": {
        "colab": {
          "base_uri": "https://localhost:8080/"
        },
        "id": "wniduAopTcKs",
        "outputId": "6a2d406a-abf7-4d94-fee0-b054aa15450b"
      },
      "execution_count": 9,
      "outputs": [
        {
          "output_type": "execute_result",
          "data": {
            "text/plain": [
              "0.06639624582033997"
            ]
          },
          "metadata": {},
          "execution_count": 9
        }
      ]
    },
    {
      "cell_type": "code",
      "source": [
        "mean_absolute_error(y_test,y_pred)"
      ],
      "metadata": {
        "colab": {
          "base_uri": "https://localhost:8080/"
        },
        "id": "nZfNqNnUTjXp",
        "outputId": "4f3d344a-4e4d-41d7-c2cf-483d6e9426b3"
      },
      "execution_count": 10,
      "outputs": [
        {
          "output_type": "execute_result",
          "data": {
            "text/plain": [
              "275.1882983775329"
            ]
          },
          "metadata": {},
          "execution_count": 10
        }
      ]
    },
    {
      "cell_type": "code",
      "source": [
        "mean_squared_error(y_test,y_pred)"
      ],
      "metadata": {
        "id": "W8GQTYbkT3TU",
        "outputId": "0a17c95b-8c2e-45e9-ba83-47131fd06d71",
        "colab": {
          "base_uri": "https://localhost:8080/"
        }
      },
      "execution_count": 11,
      "outputs": [
        {
          "output_type": "execute_result",
          "data": {
            "text/plain": [
              "309213.3660690147"
            ]
          },
          "metadata": {},
          "execution_count": 11
        }
      ]
    }
  ]
}